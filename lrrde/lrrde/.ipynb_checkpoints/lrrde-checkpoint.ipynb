{
 "cells": [
  {
   "cell_type": "code",
   "execution_count": 1,
   "metadata": {},
   "outputs": [],
   "source": [
    "## Matteo Peluso Febbraio 2019\n",
    "# PhD Student: Methods and Model for Molecular Sciences\n",
    "# Scuola Normale Superiore, Pisa\n",
    "# email: matteo.peluso@sns.it\n",
    "\n",
    "import os\n",
    "import time\n",
    "import seaborn\n",
    "seaborn.set(style='whitegrid')\n",
    "seaborn.set_context('paper')\n",
    "\n",
    "# Path to get to the python modules\n",
    "path_data = \"/home/matteopeluso/Scrivania/jupyter-lab/lrr-de/silver/func\"\n",
    "os.chdir(path_data)\n",
    "\n",
    "\n",
    "from parse_input     import *\n",
    "from distances       import *\n",
    "from multi_objective import *\n",
    "from normal_solver   import *\n",
    "from testing         import *\n"
   ]
  },
  {
   "cell_type": "code",
   "execution_count": 2,
   "metadata": {},
   "outputs": [],
   "source": [
    "# --------------------------- User ------------------------------#\n",
    "# Set of input parameters for the lrr-de procedure\n",
    "\n",
    "input_params = {}\n",
    "flag_files   = {}\n",
    "training     = {}\n",
    "\n",
    "input_params['n_conf']        = 239  # Number of total configurations\n",
    "input_params['n_test']        = 39   # Dimension Test Set\n",
    "input_params['n_train']       = 200  # Dimension Training Set\n",
    "input_params['len_vs']        = 0.09 # Length of the Virtual Site\n",
    "input_params['n_vs']          = 2    # Number of Virtual Sites\n",
    "\n",
    "input_params['index_ion']     = 1    # Index of the ion in the coordinate file  \n",
    "input_params['N_atom']        = [385, 97] # Number of atom per system \n",
    "input_params['N_water']       = [128, 32] # Number of water molecules per system\n",
    "\n",
    "input_params['old_params']    = [1, 0.278,0.4]   # Old FF Parameters for testing Q, sigma, eps \n",
    "\n",
    "input_params['n_functions']   = 3  # 0 --> Parametri Ag: c6,c12   VS: q\n",
    "                                   # 1 --> Parametri Ag: c6,c12   VS: q, c12\n",
    "                                   # 2 --> Parametri Ag: c6,c12   VS: q, c6,c12\n",
    "                                   # 3 --> Parametri Ag: q,c6,c12 VS: q,c6,c12\n",
    "                                   # 4 --> Parametri Ag: q,c6,c12 VS: q \n",
    "                                   # 5 --> Parametri Ag: q,c6,c12 VS: q, c12\n",
    "                \n",
    "input_params['q_value']       = 0.8 # if nfunctions = 0,1,2 inserire valore della carica\n",
    "input_params['file_dir']      = \"/home/matteopeluso/Scrivania/jupyter-lab/lrr-de/silver/out_cn2_extended\" # Directory of the input files\n",
    "input_params['outdir']        = \"/home/matteopeluso/Scrivania/jupyter-lab/lrr-de/silver/out_cn2_extended\" # Directory for the output files\n",
    "input_params['counterpoise']  = True # If the Counterpoise correction has been applied\n",
    "input_params['borders']       = np.matrix([10e-15, 10e-1]) # Border for the search of the hyperparameter\n",
    "\n",
    "# Flag for the files to be read\n",
    "flag_files['topology']        = True\n",
    "flag_files['energy']          = True\n",
    "flag_files['force']           = True  \n",
    "flag_files['coordinate']      = True \n",
    "\n"
   ]
  },
  {
   "cell_type": "code",
   "execution_count": 3,
   "metadata": {},
   "outputs": [
    {
     "name": "stdout",
     "output_type": "stream",
     "text": [
      "----------------------------------------------------------------\n",
      "Generating Training and Test Set\n",
      "Time employed to build the Training and Test Set 4.76 s\n",
      "----------------------------------------------------------------\n"
     ]
    }
   ],
   "source": [
    "# ------------------------ Training Set---------------------------------#\n",
    "\n",
    "print(\"----------------------------------------------------------------\")\n",
    "print(\"Generating Training and Test Set\")\n",
    "\n",
    "## Parsing + Distance matrices\n",
    "t0 = time.time()\n",
    "_parser = parser(input_params, flag_files)\n",
    "_parser.eval_distances()\n",
    "input_params = _parser.input_params\n",
    "\n",
    "\n",
    "# Training set\n",
    "energy_ts = input_setup(input_params, flag=\"energy\", weight=[1,1])\n",
    "force_ts  = input_setup(input_params, flag=\"force\",  weight=[30,30])\n",
    "\n",
    "training['energy_ts'] = energy_ts \n",
    "training['force_ts']  = force_ts\n",
    "data_set  = training_set(training)\n",
    "\n",
    "data_set.model_descriptor()\n",
    "t1 = time.time()\n",
    "total = t1-t0\n",
    "print(\"Time employed to build the Training and Test Set {} s\".format(np.round(total,2)))\n",
    "print(\"----------------------------------------------------------------\")\n"
   ]
  },
  {
   "cell_type": "code",
   "execution_count": null,
   "metadata": {},
   "outputs": [
    {
     "name": "stdout",
     "output_type": "stream",
     "text": [
      "----------------------------------------------------------------\n",
      "Evaluating parameters ---> LRRDE\n",
      "----------------------------------------------------------------\n"
     ]
    }
   ],
   "source": [
    "# ------------------------ Fitting -------------------------------------#\n",
    "print(\"----------------------------------------------------------------\")\n",
    "t0 = time.time()\n",
    "print(\"Evaluating parameters ---> LRRDE\")\n",
    "print(\"----------------------------------------------------------------\")\n",
    "lrrde = eval_lrrde(data_set)\n",
    "lrrde.eval_de()\n"
   ]
  },
  {
   "cell_type": "code",
   "execution_count": null,
   "metadata": {},
   "outputs": [],
   "source": [
    "# ------------------------ Testing -------------------------------------#\n",
    "t1 = time.time()\n",
    "total = t1-t0\n",
    "print(\"Time employed for the fitting {} s\".format(total))\n",
    "#\n",
    "print(\"----------------------------------------------------------------\")\n",
    "print(\"Prediction\")\n",
    "print(\"----------------------------------------------------------------\")\n",
    "#\n",
    "testing_data(data_set = data_set, params = lrrde.params, plot = 'y')"
   ]
  },
  {
   "cell_type": "code",
   "execution_count": null,
   "metadata": {},
   "outputs": [],
   "source": []
  }
 ],
 "metadata": {
  "kernelspec": {
   "display_name": "Python 3",
   "language": "python",
   "name": "python3"
  },
  "language_info": {
   "codemirror_mode": {
    "name": "ipython",
    "version": 3
   },
   "file_extension": ".py",
   "mimetype": "text/x-python",
   "name": "python",
   "nbconvert_exporter": "python",
   "pygments_lexer": "ipython3",
   "version": "3.6.7"
  }
 },
 "nbformat": 4,
 "nbformat_minor": 2
}
